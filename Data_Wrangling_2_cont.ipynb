{
 "cells": [
  {
   "cell_type": "code",
   "execution_count": null,
   "metadata": {},
   "outputs": [],
   "source": [
    "import pandas as pd\n",
    "import numpy as np\n",
    "import matplotlib.pyplot as plt\n",
    "import seaborn as sns\n",
    "import gmaps\n",
    "import gmaps.datasets\n",
    "import ipyleaflet\n",
    "from IPython.display import display"
   ]
  },
  {
   "cell_type": "code",
   "execution_count": null,
   "metadata": {},
   "outputs": [],
   "source": [
    "#importing environment variables\n",
    "from dotenv import dotenv_values\n",
    "env_variables = dotenv_values('Ignore.env')"
   ]
  },
  {
   "cell_type": "code",
   "execution_count": null,
   "metadata": {},
   "outputs": [],
   "source": [
    "df = pd.read_csv('/Users/emilydanielbowser/Documents/Iowa Food Coop/Data/Intermediate Data/Wrangled_data')"
   ]
  },
  {
   "cell_type": "code",
   "execution_count": null,
   "metadata": {},
   "outputs": [],
   "source": [
    "df.head()"
   ]
  },
  {
   "cell_type": "code",
   "execution_count": null,
   "metadata": {},
   "outputs": [],
   "source": [
    "df.drop(['Unnamed: 0'], axis=1, inplace=True)\n"
   ]
  },
  {
   "cell_type": "code",
   "execution_count": null,
   "metadata": {},
   "outputs": [],
   "source": [
    "df.shape"
   ]
  },
  {
   "cell_type": "code",
   "execution_count": null,
   "metadata": {},
   "outputs": [],
   "source": [
    "df.columns"
   ]
  },
  {
   "cell_type": "code",
   "execution_count": null,
   "metadata": {},
   "outputs": [],
   "source": [
    "#Filling in all NAs from the different sales categories with 0's\n",
    "df[['SaleNom', 'Baked Goods', 'Beverages', 'Classes and Events',\n",
    "       'Condiments + Sauces', 'Dairy', 'Dried Herbs + Spices', 'Eggs',\n",
    "       'Grains, Flours, Cereal + Pastas', 'Handmade Home Goods + Gifts',\n",
    "       'Honey, Syrups, Jams + Jellies', 'Iowa Food Co-op Shop',\n",
    "       'Local Produce', 'Meat - Beef', 'Meat - Chicken + Capon', 'Meat - Pork',\n",
    "       'Meats - Other', 'Non-Food Items', 'Nuts', 'Other Protein Sources',\n",
    "       'Personal Care', 'Pet + Animal Care', 'Prepared Foods', 'Snacks',\n",
    "       'The Garden Center']]=df[['SaleNom', 'Baked Goods', 'Beverages', 'Classes and Events',\n",
    "       'Condiments + Sauces', 'Dairy', 'Dried Herbs + Spices', 'Eggs',\n",
    "       'Grains, Flours, Cereal + Pastas', 'Handmade Home Goods + Gifts',\n",
    "       'Honey, Syrups, Jams + Jellies', 'Iowa Food Co-op Shop',\n",
    "       'Local Produce', 'Meat - Beef', 'Meat - Chicken + Capon', 'Meat - Pork',\n",
    "       'Meats - Other', 'Non-Food Items', 'Nuts', 'Other Protein Sources',\n",
    "       'Personal Care', 'Pet + Animal Care', 'Prepared Foods', 'Snacks',\n",
    "       'The Garden Center']].fillna(0)"
   ]
  },
  {
   "cell_type": "code",
   "execution_count": null,
   "metadata": {},
   "outputs": [],
   "source": [
    "cleaning_df = df[['IDCyc','IDMemb','Baked Goods', 'Beverages',\n",
    "       'Classes and Events', 'Condiments + Sauces', 'Dairy',\n",
    "       'Dried Herbs + Spices', 'Eggs', 'Grains, Flours, Cereal + Pastas',\n",
    "       'Handmade Home Goods + Gifts', 'Honey, Syrups, Jams + Jellies',\n",
    "       'Iowa Food Co-op Shop', 'Local Produce', 'Meat - Beef',\n",
    "       'Meat - Chicken + Capon', 'Meat - Pork', 'Meats - Other',\n",
    "       'Non-Food Items', 'Nuts', 'Other Protein Sources', 'Personal Care',\n",
    "       'Pet + Animal Care', 'Prepared Foods', 'Snacks', 'The Garden Center','SaleNom']]"
   ]
  },
  {
   "cell_type": "code",
   "execution_count": null,
   "metadata": {},
   "outputs": [],
   "source": []
  },
  {
   "cell_type": "code",
   "execution_count": null,
   "metadata": {},
   "outputs": [],
   "source": [
    "#Need to sort df oldest to newest first as we start making columns that cumulate over time.\n",
    "cleaning_df = cleaning_df.sort_values(by=['IDMemb','IDCyc'], ascending=True)"
   ]
  },
  {
   "cell_type": "code",
   "execution_count": null,
   "metadata": {},
   "outputs": [],
   "source": [
    "cleaning_df.head()"
   ]
  },
  {
   "cell_type": "code",
   "execution_count": null,
   "metadata": {},
   "outputs": [],
   "source": [
    "cleaning_df[cleaning_df['IDMemb']==1078]"
   ]
  },
  {
   "cell_type": "code",
   "execution_count": null,
   "metadata": {},
   "outputs": [],
   "source": [
    "#Creating a Cumulative Sum column to add customer orders as they go since we can't use total sales in our final model.\n",
    "cleaning_df[\"Cumulative_Sum\"] = cleaning_df.groupby(\"IDMemb\")[\"SaleNom\"].transform(lambda x: x.shift().fillna(0).cumsum())"
   ]
  },
  {
   "cell_type": "code",
   "execution_count": null,
   "metadata": {},
   "outputs": [],
   "source": [
    "#Column of 1s and 0s for whether or not a person ordered during that ordering period\n",
    "cleaning_df['Ordered'] = cleaning_df['SaleNom'].apply((lambda x: 1 if x>0 else 0))"
   ]
  },
  {
   "cell_type": "code",
   "execution_count": null,
   "metadata": {},
   "outputs": [],
   "source": [
    "#Summing the new column to have a cumulative sum of total orders for each member.\n",
    "cleaning_df['Cumulative_Number_of_Orders'] = cleaning_df.groupby(\"IDMemb\")[\"Ordered\"].transform(lambda x: x.shift().fillna(0).cumsum())"
   ]
  },
  {
   "cell_type": "code",
   "execution_count": null,
   "metadata": {},
   "outputs": [],
   "source": [
    "#Calculating average order when the person orders. \n",
    "cleaning_df['order_per_cycle_when_ordering'] = cleaning_df['Cumulative_Sum']/cleaning_df['Cumulative_Number_of_Orders']"
   ]
  },
  {
   "cell_type": "code",
   "execution_count": null,
   "metadata": {},
   "outputs": [],
   "source": [
    "column_list = ['Baked Goods', 'Beverages','Classes and Events','Condiments + Sauces', 'Dairy',\n",
    "       'Dried Herbs + Spices', 'Eggs', 'Grains, Flours, Cereal + Pastas',\n",
    "       'Handmade Home Goods + Gifts', 'Honey, Syrups, Jams + Jellies',\n",
    "       'Iowa Food Co-op Shop', 'Local Produce', 'Meat - Beef',\n",
    "       'Meat - Chicken + Capon', 'Meat - Pork', 'Meats - Other',\n",
    "       'Non-Food Items', 'Nuts', 'Other Protein Sources', 'Personal Care',\n",
    "       'Pet + Animal Care', 'Prepared Foods', 'Snacks', 'The Garden Center']\n",
    "\n",
    "for column in column_list:\n",
    "    cleaning_df[f'{column}_Cum'] = cleaning_df.groupby(\"IDMemb\")[column].transform(lambda x: x.shift().fillna(0).cumsum())\n",
    "    cleaning_df.drop(column, axis=1, inplace=True)"
   ]
  },
  {
   "cell_type": "code",
   "execution_count": null,
   "metadata": {},
   "outputs": [],
   "source": [
    "cleaning_df.head()"
   ]
  },
  {
   "cell_type": "code",
   "execution_count": null,
   "metadata": {},
   "outputs": [],
   "source": [
    "cleaning_df[cleaning_df['IDMemb']==1016]"
   ]
  },
  {
   "cell_type": "code",
   "execution_count": null,
   "metadata": {},
   "outputs": [],
   "source": [
    "cleaning_df.sort_values(by=['IDCyc','IDMemb'], ascending=True,inplace = True)"
   ]
  },
  {
   "cell_type": "code",
   "execution_count": null,
   "metadata": {},
   "outputs": [],
   "source": [
    "#Cumulative count of how many cycles this person has been a member.\n",
    "cleaning_df['Cycles_as_member'] = cleaning_df.groupby('IDMemb')['IDMemb'].cumcount() + 1"
   ]
  },
  {
   "cell_type": "code",
   "execution_count": null,
   "metadata": {},
   "outputs": [],
   "source": [
    "cleaning_df.head()"
   ]
  },
  {
   "cell_type": "code",
   "execution_count": null,
   "metadata": {},
   "outputs": [],
   "source": [
    "#Calulate how much each customer orders per cycle by dividing their total orders by the number of cycles they have been a member.\n",
    "cleaning_df['order_per_cycle'] = cleaning_df['Cumulative_Sum']/(cleaning_df['Cycles_as_member']-1)"
   ]
  },
  {
   "cell_type": "code",
   "execution_count": null,
   "metadata": {},
   "outputs": [],
   "source": [
    "cleaning_df.head()"
   ]
  },
  {
   "cell_type": "code",
   "execution_count": null,
   "metadata": {},
   "outputs": [],
   "source": [
    "cleaning_df['order_per_cycle'] = cleaning_df['order_per_cycle'].fillna(0)"
   ]
  },
  {
   "cell_type": "code",
   "execution_count": null,
   "metadata": {},
   "outputs": [],
   "source": [
    "cleaning_df['order_per_cycle_when_ordering'] = cleaning_df['order_per_cycle_when_ordering'].fillna(0)"
   ]
  },
  {
   "cell_type": "code",
   "execution_count": null,
   "metadata": {},
   "outputs": [],
   "source": [
    "cleaning_df.head()"
   ]
  },
  {
   "cell_type": "code",
   "execution_count": null,
   "metadata": {},
   "outputs": [],
   "source": [
    "cleaning_df.columns"
   ]
  },
  {
   "cell_type": "code",
   "execution_count": null,
   "metadata": {},
   "outputs": [],
   "source": [
    "df.columns"
   ]
  },
  {
   "cell_type": "code",
   "execution_count": null,
   "metadata": {},
   "outputs": [],
   "source": [
    "df.drop(['Baked Goods', 'Beverages',\n",
    "       'Classes and Events', 'Condiments + Sauces', 'Dairy',\n",
    "       'Dried Herbs + Spices', 'Eggs', 'Grains, Flours, Cereal + Pastas',\n",
    "       'Handmade Home Goods + Gifts', 'Honey, Syrups, Jams + Jellies',\n",
    "       'Iowa Food Co-op Shop', 'Local Produce', 'Meat - Beef',\n",
    "       'Meat - Chicken + Capon', 'Meat - Pork', 'Meats - Other',\n",
    "       'Non-Food Items', 'Nuts', 'Other Protein Sources', 'Personal Care',\n",
    "       'Pet + Animal Care', 'Prepared Foods', 'Snacks', 'The Garden Center'],axis=1, inplace=True)"
   ]
  },
  {
   "cell_type": "code",
   "execution_count": null,
   "metadata": {},
   "outputs": [],
   "source": [
    "print(df.shape,cleaning_df.shape)"
   ]
  },
  {
   "cell_type": "code",
   "execution_count": null,
   "metadata": {},
   "outputs": [],
   "source": [
    "df.columns"
   ]
  },
  {
   "cell_type": "code",
   "execution_count": null,
   "metadata": {},
   "outputs": [],
   "source": [
    "df=df.merge(cleaning_df,how='left', on =['IDCyc','IDMemb','SaleNom'])"
   ]
  },
  {
   "cell_type": "code",
   "execution_count": null,
   "metadata": {},
   "outputs": [],
   "source": [
    "df.shape"
   ]
  },
  {
   "cell_type": "code",
   "execution_count": null,
   "metadata": {},
   "outputs": [],
   "source": [
    "df = df.sort_values(['IDMemb','IDCyc'],ascending = True)"
   ]
  },
  {
   "cell_type": "code",
   "execution_count": null,
   "metadata": {},
   "outputs": [],
   "source": [
    "filepath = '/Users/emilydanielbowser/Documents/Iowa Food Coop/Data/Intermediate Data/cleaned_data'\n",
    "df.to_csv(filepath)"
   ]
  }
 ],
 "metadata": {
  "kernelspec": {
   "display_name": "Python 3.11.3 64-bit",
   "language": "python",
   "name": "python3"
  },
  "language_info": {
   "codemirror_mode": {
    "name": "ipython",
    "version": 3
   },
   "file_extension": ".py",
   "mimetype": "text/x-python",
   "name": "python",
   "nbconvert_exporter": "python",
   "pygments_lexer": "ipython3",
   "version": "3.11.3"
  },
  "orig_nbformat": 4,
  "vscode": {
   "interpreter": {
    "hash": "aee8b7b246df8f9039afb4144a1f6fd8d2ca17a180786b69acc140d282b71a49"
   }
  }
 },
 "nbformat": 4,
 "nbformat_minor": 2
}
