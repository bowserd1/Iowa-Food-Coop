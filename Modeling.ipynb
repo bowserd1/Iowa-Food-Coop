{
 "cells": [
  {
   "cell_type": "code",
   "execution_count": 1,
   "metadata": {},
   "outputs": [],
   "source": [
    "import pandas as pd\n",
    "from sklearn.pipeline import Pipeline\n",
    "from sklearn.model_selection import cross_validate, GridSearchCV\n",
    "from sklearn.ensemble import RandomForestRegressor\n",
    "import xgboost as xgb\n",
    "from sklearn.metrics import mean_squared_error, r2_score, mean_absolute_error\n",
    "from sklearn.model_selection import cross_val_score\n",
    "from sklearn import metrics\n",
    "from sklearn.pipeline import make_pipeline\n",
    "from sklearn.model_selection import KFold\n",
    "import numpy as np\n",
    "import matplotlib.pyplot as plt\n",
    "import seaborn as sns\n",
    "import xgboost as xgb"
   ]
  },
  {
   "cell_type": "code",
   "execution_count": 2,
   "metadata": {},
   "outputs": [],
   "source": [
    "X_train= pd.read_csv('/Users/emilydanielbowser/Documents/Iowa Food Coop/Data/Final Data/X_train')\n",
    "y_train= pd.read_csv('/Users/emilydanielbowser/Documents/Iowa Food Coop/Data/Final Data/y_train')\n",
    "X_val= pd.read_csv('/Users/emilydanielbowser/Documents/Iowa Food Coop/Data/Final Data/X_val')\n",
    "y_val= pd.read_csv('/Users/emilydanielbowser/Documents/Iowa Food Coop/Data/Final Data/y_val')\n",
    "X_test= pd.read_csv('/Users/emilydanielbowser/Documents/Iowa Food Coop/Data/Final Data/X_test')\n",
    "y_test= pd.read_csv('/Users/emilydanielbowser/Documents/Iowa Food Coop/Data/Final Data/y_test')"
   ]
  },
  {
   "cell_type": "code",
   "execution_count": 3,
   "metadata": {},
   "outputs": [],
   "source": [
    "from sklearn.model_selection import RandomizedSearchCV"
   ]
  },
  {
   "cell_type": "code",
   "execution_count": 4,
   "metadata": {},
   "outputs": [],
   "source": [
    "params = { 'max_depth': [3, 5, 6, 10, 15, 20],\n",
    "           'learning_rate': [0.01, 0.1, 0.2, 0.3],\n",
    "           'subsample': np.arange(0.5, 1.0, 0.1),\n",
    "           'colsample_bytree': np.arange(0.4, 1.0, 0.1),\n",
    "           'colsample_bylevel': np.arange(0.4, 1.0, 0.1),\n",
    "           'n_estimators': [100, 400, 800]}\n",
    "xgbr = xgb.XGBRegressor(seed = 42)\n",
    "clf = RandomizedSearchCV(estimator=xgbr,\n",
    "                         param_distributions=params,\n",
    "                         scoring='neg_mean_squared_error',\n",
    "                         n_iter=25,\n",
    "                         verbose=2)"
   ]
  },
  {
   "cell_type": "code",
   "execution_count": 5,
   "metadata": {},
   "outputs": [
    {
     "name": "stdout",
     "output_type": "stream",
     "text": [
      "Fitting 5 folds for each of 25 candidates, totalling 125 fits\n",
      "[CV] END colsample_bylevel=0.6, colsample_bytree=0.4, learning_rate=0.01, max_depth=15, n_estimators=100, subsample=0.5; total time=   8.5s\n",
      "[CV] END colsample_bylevel=0.6, colsample_bytree=0.4, learning_rate=0.01, max_depth=15, n_estimators=100, subsample=0.5; total time=   7.8s\n",
      "[CV] END colsample_bylevel=0.6, colsample_bytree=0.4, learning_rate=0.01, max_depth=15, n_estimators=100, subsample=0.5; total time=   7.4s\n",
      "[CV] END colsample_bylevel=0.6, colsample_bytree=0.4, learning_rate=0.01, max_depth=15, n_estimators=100, subsample=0.5; total time=   8.8s\n",
      "[CV] END colsample_bylevel=0.6, colsample_bytree=0.4, learning_rate=0.01, max_depth=15, n_estimators=100, subsample=0.5; total time=  14.7s\n",
      "[CV] END colsample_bylevel=0.8999999999999999, colsample_bytree=0.7999999999999999, learning_rate=0.01, max_depth=3, n_estimators=800, subsample=0.6; total time=  48.7s\n",
      "[CV] END colsample_bylevel=0.8999999999999999, colsample_bytree=0.7999999999999999, learning_rate=0.01, max_depth=3, n_estimators=800, subsample=0.6; total time=  34.3s\n",
      "[CV] END colsample_bylevel=0.8999999999999999, colsample_bytree=0.7999999999999999, learning_rate=0.01, max_depth=3, n_estimators=800, subsample=0.6; total time=  30.6s\n",
      "[CV] END colsample_bylevel=0.8999999999999999, colsample_bytree=0.7999999999999999, learning_rate=0.01, max_depth=3, n_estimators=800, subsample=0.6; total time=  38.4s\n",
      "[CV] END colsample_bylevel=0.8999999999999999, colsample_bytree=0.7999999999999999, learning_rate=0.01, max_depth=3, n_estimators=800, subsample=0.6; total time=  30.3s\n",
      "[CV] END colsample_bylevel=0.6, colsample_bytree=0.8999999999999999, learning_rate=0.3, max_depth=6, n_estimators=100, subsample=0.7; total time=   7.1s\n",
      "[CV] END colsample_bylevel=0.6, colsample_bytree=0.8999999999999999, learning_rate=0.3, max_depth=6, n_estimators=100, subsample=0.7; total time=   5.0s\n",
      "[CV] END colsample_bylevel=0.6, colsample_bytree=0.8999999999999999, learning_rate=0.3, max_depth=6, n_estimators=100, subsample=0.7; total time=   4.6s\n",
      "[CV] END colsample_bylevel=0.6, colsample_bytree=0.8999999999999999, learning_rate=0.3, max_depth=6, n_estimators=100, subsample=0.7; total time=   6.0s\n",
      "[CV] END colsample_bylevel=0.6, colsample_bytree=0.8999999999999999, learning_rate=0.3, max_depth=6, n_estimators=100, subsample=0.7; total time=   6.2s\n",
      "[CV] END colsample_bylevel=0.7999999999999999, colsample_bytree=0.5, learning_rate=0.2, max_depth=10, n_estimators=400, subsample=0.7; total time=  36.9s\n",
      "[CV] END colsample_bylevel=0.7999999999999999, colsample_bytree=0.5, learning_rate=0.2, max_depth=10, n_estimators=400, subsample=0.7; total time=  39.2s\n",
      "[CV] END colsample_bylevel=0.7999999999999999, colsample_bytree=0.5, learning_rate=0.2, max_depth=10, n_estimators=400, subsample=0.7; total time=  31.9s\n",
      "[CV] END colsample_bylevel=0.7999999999999999, colsample_bytree=0.5, learning_rate=0.2, max_depth=10, n_estimators=400, subsample=0.7; total time=  32.5s\n",
      "[CV] END colsample_bylevel=0.7999999999999999, colsample_bytree=0.5, learning_rate=0.2, max_depth=10, n_estimators=400, subsample=0.7; total time=  33.0s\n",
      "[CV] END colsample_bylevel=0.7999999999999999, colsample_bytree=0.7999999999999999, learning_rate=0.1, max_depth=5, n_estimators=400, subsample=0.5; total time=  21.2s\n",
      "[CV] END colsample_bylevel=0.7999999999999999, colsample_bytree=0.7999999999999999, learning_rate=0.1, max_depth=5, n_estimators=400, subsample=0.5; total time=  17.4s\n",
      "[CV] END colsample_bylevel=0.7999999999999999, colsample_bytree=0.7999999999999999, learning_rate=0.1, max_depth=5, n_estimators=400, subsample=0.5; total time=  16.8s\n",
      "[CV] END colsample_bylevel=0.7999999999999999, colsample_bytree=0.7999999999999999, learning_rate=0.1, max_depth=5, n_estimators=400, subsample=0.5; total time=  19.5s\n",
      "[CV] END colsample_bylevel=0.7999999999999999, colsample_bytree=0.7999999999999999, learning_rate=0.1, max_depth=5, n_estimators=400, subsample=0.5; total time=  19.3s\n",
      "[CV] END colsample_bylevel=0.8999999999999999, colsample_bytree=0.4, learning_rate=0.01, max_depth=15, n_estimators=400, subsample=0.5; total time=  39.6s\n",
      "[CV] END colsample_bylevel=0.8999999999999999, colsample_bytree=0.4, learning_rate=0.01, max_depth=15, n_estimators=400, subsample=0.5; total time=  35.0s\n",
      "[CV] END colsample_bylevel=0.8999999999999999, colsample_bytree=0.4, learning_rate=0.01, max_depth=15, n_estimators=400, subsample=0.5; total time=  38.7s\n",
      "[CV] END colsample_bylevel=0.8999999999999999, colsample_bytree=0.4, learning_rate=0.01, max_depth=15, n_estimators=400, subsample=0.5; total time=  48.6s\n",
      "[CV] END colsample_bylevel=0.8999999999999999, colsample_bytree=0.4, learning_rate=0.01, max_depth=15, n_estimators=400, subsample=0.5; total time=  36.9s\n",
      "[CV] END colsample_bylevel=0.5, colsample_bytree=0.4, learning_rate=0.3, max_depth=3, n_estimators=800, subsample=0.7999999999999999; total time=  11.7s\n",
      "[CV] END colsample_bylevel=0.5, colsample_bytree=0.4, learning_rate=0.3, max_depth=3, n_estimators=800, subsample=0.7999999999999999; total time=  13.0s\n",
      "[CV] END colsample_bylevel=0.5, colsample_bytree=0.4, learning_rate=0.3, max_depth=3, n_estimators=800, subsample=0.7999999999999999; total time=  13.2s\n",
      "[CV] END colsample_bylevel=0.5, colsample_bytree=0.4, learning_rate=0.3, max_depth=3, n_estimators=800, subsample=0.7999999999999999; total time=  14.2s\n",
      "[CV] END colsample_bylevel=0.5, colsample_bytree=0.4, learning_rate=0.3, max_depth=3, n_estimators=800, subsample=0.7999999999999999; total time=  13.0s\n",
      "[CV] END colsample_bylevel=0.5, colsample_bytree=0.5, learning_rate=0.01, max_depth=6, n_estimators=100, subsample=0.5; total time=   3.2s\n",
      "[CV] END colsample_bylevel=0.5, colsample_bytree=0.5, learning_rate=0.01, max_depth=6, n_estimators=100, subsample=0.5; total time=   2.8s\n",
      "[CV] END colsample_bylevel=0.5, colsample_bytree=0.5, learning_rate=0.01, max_depth=6, n_estimators=100, subsample=0.5; total time=   3.2s\n",
      "[CV] END colsample_bylevel=0.5, colsample_bytree=0.5, learning_rate=0.01, max_depth=6, n_estimators=100, subsample=0.5; total time=   2.9s\n",
      "[CV] END colsample_bylevel=0.5, colsample_bytree=0.5, learning_rate=0.01, max_depth=6, n_estimators=100, subsample=0.5; total time=   2.9s\n",
      "[CV] END colsample_bylevel=0.4, colsample_bytree=0.7999999999999999, learning_rate=0.2, max_depth=3, n_estimators=400, subsample=0.6; total time=   7.6s\n",
      "[CV] END colsample_bylevel=0.4, colsample_bytree=0.7999999999999999, learning_rate=0.2, max_depth=3, n_estimators=400, subsample=0.6; total time=   7.0s\n",
      "[CV] END colsample_bylevel=0.4, colsample_bytree=0.7999999999999999, learning_rate=0.2, max_depth=3, n_estimators=400, subsample=0.6; total time=   6.7s\n",
      "[CV] END colsample_bylevel=0.4, colsample_bytree=0.7999999999999999, learning_rate=0.2, max_depth=3, n_estimators=400, subsample=0.6; total time=   7.0s\n",
      "[CV] END colsample_bylevel=0.4, colsample_bytree=0.7999999999999999, learning_rate=0.2, max_depth=3, n_estimators=400, subsample=0.6; total time=   6.8s\n",
      "[CV] END colsample_bylevel=0.8999999999999999, colsample_bytree=0.8999999999999999, learning_rate=0.3, max_depth=5, n_estimators=400, subsample=0.6; total time=  21.2s\n",
      "[CV] END colsample_bylevel=0.8999999999999999, colsample_bytree=0.8999999999999999, learning_rate=0.3, max_depth=5, n_estimators=400, subsample=0.6; total time=  20.3s\n",
      "[CV] END colsample_bylevel=0.8999999999999999, colsample_bytree=0.8999999999999999, learning_rate=0.3, max_depth=5, n_estimators=400, subsample=0.6; total time=  21.3s\n",
      "[CV] END colsample_bylevel=0.8999999999999999, colsample_bytree=0.8999999999999999, learning_rate=0.3, max_depth=5, n_estimators=400, subsample=0.6; total time=  20.2s\n",
      "[CV] END colsample_bylevel=0.8999999999999999, colsample_bytree=0.8999999999999999, learning_rate=0.3, max_depth=5, n_estimators=400, subsample=0.6; total time=  19.7s\n",
      "[CV] END colsample_bylevel=0.7, colsample_bytree=0.7, learning_rate=0.1, max_depth=15, n_estimators=800, subsample=0.7; total time= 1.5min\n",
      "[CV] END colsample_bylevel=0.7, colsample_bytree=0.7, learning_rate=0.1, max_depth=15, n_estimators=800, subsample=0.7; total time= 2.0min\n",
      "[CV] END colsample_bylevel=0.7, colsample_bytree=0.7, learning_rate=0.1, max_depth=15, n_estimators=800, subsample=0.7; total time= 2.2min\n",
      "[CV] END colsample_bylevel=0.7, colsample_bytree=0.7, learning_rate=0.1, max_depth=15, n_estimators=800, subsample=0.7; total time= 2.2min\n",
      "[CV] END colsample_bylevel=0.7, colsample_bytree=0.7, learning_rate=0.1, max_depth=15, n_estimators=800, subsample=0.7; total time= 2.4min\n",
      "[CV] END colsample_bylevel=0.5, colsample_bytree=0.4, learning_rate=0.1, max_depth=5, n_estimators=400, subsample=0.6; total time=  12.5s\n",
      "[CV] END colsample_bylevel=0.5, colsample_bytree=0.4, learning_rate=0.1, max_depth=5, n_estimators=400, subsample=0.6; total time=  11.5s\n",
      "[CV] END colsample_bylevel=0.5, colsample_bytree=0.4, learning_rate=0.1, max_depth=5, n_estimators=400, subsample=0.6; total time=  11.3s\n",
      "[CV] END colsample_bylevel=0.5, colsample_bytree=0.4, learning_rate=0.1, max_depth=5, n_estimators=400, subsample=0.6; total time=  12.1s\n",
      "[CV] END colsample_bylevel=0.5, colsample_bytree=0.4, learning_rate=0.1, max_depth=5, n_estimators=400, subsample=0.6; total time=  11.6s\n",
      "[CV] END colsample_bylevel=0.5, colsample_bytree=0.5, learning_rate=0.1, max_depth=6, n_estimators=100, subsample=0.5; total time=   3.5s\n",
      "[CV] END colsample_bylevel=0.5, colsample_bytree=0.5, learning_rate=0.1, max_depth=6, n_estimators=100, subsample=0.5; total time=   3.6s\n",
      "[CV] END colsample_bylevel=0.5, colsample_bytree=0.5, learning_rate=0.1, max_depth=6, n_estimators=100, subsample=0.5; total time=   3.7s\n",
      "[CV] END colsample_bylevel=0.5, colsample_bytree=0.5, learning_rate=0.1, max_depth=6, n_estimators=100, subsample=0.5; total time=   3.7s\n",
      "[CV] END colsample_bylevel=0.5, colsample_bytree=0.5, learning_rate=0.1, max_depth=6, n_estimators=100, subsample=0.5; total time=   3.3s\n",
      "[CV] END colsample_bylevel=0.4, colsample_bytree=0.8999999999999999, learning_rate=0.01, max_depth=15, n_estimators=400, subsample=0.7999999999999999; total time= 1.1min\n",
      "[CV] END colsample_bylevel=0.4, colsample_bytree=0.8999999999999999, learning_rate=0.01, max_depth=15, n_estimators=400, subsample=0.7999999999999999; total time=  52.1s\n",
      "[CV] END colsample_bylevel=0.4, colsample_bytree=0.8999999999999999, learning_rate=0.01, max_depth=15, n_estimators=400, subsample=0.7999999999999999; total time=  55.4s\n",
      "[CV] END colsample_bylevel=0.4, colsample_bytree=0.8999999999999999, learning_rate=0.01, max_depth=15, n_estimators=400, subsample=0.7999999999999999; total time=  45.0s\n",
      "[CV] END colsample_bylevel=0.4, colsample_bytree=0.8999999999999999, learning_rate=0.01, max_depth=15, n_estimators=400, subsample=0.7999999999999999; total time=  47.1s\n",
      "[CV] END colsample_bylevel=0.5, colsample_bytree=0.7999999999999999, learning_rate=0.1, max_depth=20, n_estimators=800, subsample=0.8999999999999999; total time= 1.6min\n",
      "[CV] END colsample_bylevel=0.5, colsample_bytree=0.7999999999999999, learning_rate=0.1, max_depth=20, n_estimators=800, subsample=0.8999999999999999; total time= 1.6min\n",
      "[CV] END colsample_bylevel=0.5, colsample_bytree=0.7999999999999999, learning_rate=0.1, max_depth=20, n_estimators=800, subsample=0.8999999999999999; total time= 1.7min\n",
      "[CV] END colsample_bylevel=0.5, colsample_bytree=0.7999999999999999, learning_rate=0.1, max_depth=20, n_estimators=800, subsample=0.8999999999999999; total time= 1.9min\n",
      "[CV] END colsample_bylevel=0.5, colsample_bytree=0.7999999999999999, learning_rate=0.1, max_depth=20, n_estimators=800, subsample=0.8999999999999999; total time= 1.6min\n",
      "[CV] END colsample_bylevel=0.6, colsample_bytree=0.7, learning_rate=0.1, max_depth=15, n_estimators=400, subsample=0.7999999999999999; total time=  43.1s\n",
      "[CV] END colsample_bylevel=0.6, colsample_bytree=0.7, learning_rate=0.1, max_depth=15, n_estimators=400, subsample=0.7999999999999999; total time= 1.0min\n",
      "[CV] END colsample_bylevel=0.6, colsample_bytree=0.7, learning_rate=0.1, max_depth=15, n_estimators=400, subsample=0.7999999999999999; total time=  50.1s\n",
      "[CV] END colsample_bylevel=0.6, colsample_bytree=0.7, learning_rate=0.1, max_depth=15, n_estimators=400, subsample=0.7999999999999999; total time=  45.2s\n",
      "[CV] END colsample_bylevel=0.6, colsample_bytree=0.7, learning_rate=0.1, max_depth=15, n_estimators=400, subsample=0.7999999999999999; total time=  50.0s\n",
      "[CV] END colsample_bylevel=0.8999999999999999, colsample_bytree=0.8999999999999999, learning_rate=0.2, max_depth=20, n_estimators=400, subsample=0.5; total time= 1.8min\n",
      "[CV] END colsample_bylevel=0.8999999999999999, colsample_bytree=0.8999999999999999, learning_rate=0.2, max_depth=20, n_estimators=400, subsample=0.5; total time= 1.8min\n",
      "[CV] END colsample_bylevel=0.8999999999999999, colsample_bytree=0.8999999999999999, learning_rate=0.2, max_depth=20, n_estimators=400, subsample=0.5; total time= 1.8min\n",
      "[CV] END colsample_bylevel=0.8999999999999999, colsample_bytree=0.8999999999999999, learning_rate=0.2, max_depth=20, n_estimators=400, subsample=0.5; total time= 1.9min\n",
      "[CV] END colsample_bylevel=0.8999999999999999, colsample_bytree=0.8999999999999999, learning_rate=0.2, max_depth=20, n_estimators=400, subsample=0.5; total time= 1.6min\n",
      "[CV] END colsample_bylevel=0.7999999999999999, colsample_bytree=0.7999999999999999, learning_rate=0.3, max_depth=15, n_estimators=400, subsample=0.7; total time= 1.1min\n",
      "[CV] END colsample_bylevel=0.7999999999999999, colsample_bytree=0.7999999999999999, learning_rate=0.3, max_depth=15, n_estimators=400, subsample=0.7; total time= 1.1min\n",
      "[CV] END colsample_bylevel=0.7999999999999999, colsample_bytree=0.7999999999999999, learning_rate=0.3, max_depth=15, n_estimators=400, subsample=0.7; total time= 1.1min\n",
      "[CV] END colsample_bylevel=0.7999999999999999, colsample_bytree=0.7999999999999999, learning_rate=0.3, max_depth=15, n_estimators=400, subsample=0.7; total time= 1.1min\n",
      "[CV] END colsample_bylevel=0.7999999999999999, colsample_bytree=0.7999999999999999, learning_rate=0.3, max_depth=15, n_estimators=400, subsample=0.7; total time= 1.0min\n",
      "[CV] END colsample_bylevel=0.5, colsample_bytree=0.8999999999999999, learning_rate=0.01, max_depth=5, n_estimators=100, subsample=0.5; total time=   3.4s\n",
      "[CV] END colsample_bylevel=0.5, colsample_bytree=0.8999999999999999, learning_rate=0.01, max_depth=5, n_estimators=100, subsample=0.5; total time=   3.3s\n",
      "[CV] END colsample_bylevel=0.5, colsample_bytree=0.8999999999999999, learning_rate=0.01, max_depth=5, n_estimators=100, subsample=0.5; total time=   3.5s\n",
      "[CV] END colsample_bylevel=0.5, colsample_bytree=0.8999999999999999, learning_rate=0.01, max_depth=5, n_estimators=100, subsample=0.5; total time=   4.0s\n",
      "[CV] END colsample_bylevel=0.5, colsample_bytree=0.8999999999999999, learning_rate=0.01, max_depth=5, n_estimators=100, subsample=0.5; total time=   4.0s\n",
      "[CV] END colsample_bylevel=0.8999999999999999, colsample_bytree=0.4, learning_rate=0.1, max_depth=15, n_estimators=100, subsample=0.7999999999999999; total time=  11.1s\n",
      "[CV] END colsample_bylevel=0.8999999999999999, colsample_bytree=0.4, learning_rate=0.1, max_depth=15, n_estimators=100, subsample=0.7999999999999999; total time=  10.3s\n",
      "[CV] END colsample_bylevel=0.8999999999999999, colsample_bytree=0.4, learning_rate=0.1, max_depth=15, n_estimators=100, subsample=0.7999999999999999; total time=  12.8s\n",
      "[CV] END colsample_bylevel=0.8999999999999999, colsample_bytree=0.4, learning_rate=0.1, max_depth=15, n_estimators=100, subsample=0.7999999999999999; total time=   9.9s\n",
      "[CV] END colsample_bylevel=0.8999999999999999, colsample_bytree=0.4, learning_rate=0.1, max_depth=15, n_estimators=100, subsample=0.7999999999999999; total time=  11.3s\n",
      "[CV] END colsample_bylevel=0.7999999999999999, colsample_bytree=0.7, learning_rate=0.1, max_depth=15, n_estimators=400, subsample=0.8999999999999999; total time=  57.4s\n",
      "[CV] END colsample_bylevel=0.7999999999999999, colsample_bytree=0.7, learning_rate=0.1, max_depth=15, n_estimators=400, subsample=0.8999999999999999; total time=  57.4s\n",
      "[CV] END colsample_bylevel=0.7999999999999999, colsample_bytree=0.7, learning_rate=0.1, max_depth=15, n_estimators=400, subsample=0.8999999999999999; total time=  58.8s\n",
      "[CV] END colsample_bylevel=0.7999999999999999, colsample_bytree=0.7, learning_rate=0.1, max_depth=15, n_estimators=400, subsample=0.8999999999999999; total time=  57.2s\n",
      "[CV] END colsample_bylevel=0.7999999999999999, colsample_bytree=0.7, learning_rate=0.1, max_depth=15, n_estimators=400, subsample=0.8999999999999999; total time=  56.0s\n",
      "[CV] END colsample_bylevel=0.8999999999999999, colsample_bytree=0.6, learning_rate=0.1, max_depth=20, n_estimators=100, subsample=0.8999999999999999; total time=  20.4s\n",
      "[CV] END colsample_bylevel=0.8999999999999999, colsample_bytree=0.6, learning_rate=0.1, max_depth=20, n_estimators=100, subsample=0.8999999999999999; total time=  20.3s\n",
      "[CV] END colsample_bylevel=0.8999999999999999, colsample_bytree=0.6, learning_rate=0.1, max_depth=20, n_estimators=100, subsample=0.8999999999999999; total time=  21.8s\n",
      "[CV] END colsample_bylevel=0.8999999999999999, colsample_bytree=0.6, learning_rate=0.1, max_depth=20, n_estimators=100, subsample=0.8999999999999999; total time=  31.0s\n",
      "[CV] END colsample_bylevel=0.8999999999999999, colsample_bytree=0.6, learning_rate=0.1, max_depth=20, n_estimators=100, subsample=0.8999999999999999; total time=  25.8s\n",
      "[CV] END colsample_bylevel=0.8999999999999999, colsample_bytree=0.5, learning_rate=0.3, max_depth=6, n_estimators=800, subsample=0.7; total time=  50.6s\n",
      "[CV] END colsample_bylevel=0.8999999999999999, colsample_bytree=0.5, learning_rate=0.3, max_depth=6, n_estimators=800, subsample=0.7; total time=  42.3s\n",
      "[CV] END colsample_bylevel=0.8999999999999999, colsample_bytree=0.5, learning_rate=0.3, max_depth=6, n_estimators=800, subsample=0.7; total time=  41.2s\n",
      "[CV] END colsample_bylevel=0.8999999999999999, colsample_bytree=0.5, learning_rate=0.3, max_depth=6, n_estimators=800, subsample=0.7; total time=  48.3s\n",
      "[CV] END colsample_bylevel=0.8999999999999999, colsample_bytree=0.5, learning_rate=0.3, max_depth=6, n_estimators=800, subsample=0.7; total time=  44.2s\n",
      "[CV] END colsample_bylevel=0.8999999999999999, colsample_bytree=0.6, learning_rate=0.2, max_depth=6, n_estimators=400, subsample=0.8999999999999999; total time=  39.6s\n",
      "[CV] END colsample_bylevel=0.8999999999999999, colsample_bytree=0.6, learning_rate=0.2, max_depth=6, n_estimators=400, subsample=0.8999999999999999; total time=  30.9s\n",
      "[CV] END colsample_bylevel=0.8999999999999999, colsample_bytree=0.6, learning_rate=0.2, max_depth=6, n_estimators=400, subsample=0.8999999999999999; total time=  31.7s\n",
      "[CV] END colsample_bylevel=0.8999999999999999, colsample_bytree=0.6, learning_rate=0.2, max_depth=6, n_estimators=400, subsample=0.8999999999999999; total time=  30.9s\n",
      "[CV] END colsample_bylevel=0.8999999999999999, colsample_bytree=0.6, learning_rate=0.2, max_depth=6, n_estimators=400, subsample=0.8999999999999999; total time=  27.4s\n",
      "[CV] END colsample_bylevel=0.7999999999999999, colsample_bytree=0.7, learning_rate=0.01, max_depth=20, n_estimators=800, subsample=0.6; total time= 3.4min\n",
      "[CV] END colsample_bylevel=0.7999999999999999, colsample_bytree=0.7, learning_rate=0.01, max_depth=20, n_estimators=800, subsample=0.6; total time= 3.3min\n",
      "[CV] END colsample_bylevel=0.7999999999999999, colsample_bytree=0.7, learning_rate=0.01, max_depth=20, n_estimators=800, subsample=0.6; total time= 3.0min\n",
      "[CV] END colsample_bylevel=0.7999999999999999, colsample_bytree=0.7, learning_rate=0.01, max_depth=20, n_estimators=800, subsample=0.6; total time= 2.8min\n",
      "[CV] END colsample_bylevel=0.7999999999999999, colsample_bytree=0.7, learning_rate=0.01, max_depth=20, n_estimators=800, subsample=0.6; total time= 2.2min\n"
     ]
    },
    {
     "data": {
      "text/html": [
       "<style>#sk-container-id-1 {color: black;background-color: white;}#sk-container-id-1 pre{padding: 0;}#sk-container-id-1 div.sk-toggleable {background-color: white;}#sk-container-id-1 label.sk-toggleable__label {cursor: pointer;display: block;width: 100%;margin-bottom: 0;padding: 0.3em;box-sizing: border-box;text-align: center;}#sk-container-id-1 label.sk-toggleable__label-arrow:before {content: \"▸\";float: left;margin-right: 0.25em;color: #696969;}#sk-container-id-1 label.sk-toggleable__label-arrow:hover:before {color: black;}#sk-container-id-1 div.sk-estimator:hover label.sk-toggleable__label-arrow:before {color: black;}#sk-container-id-1 div.sk-toggleable__content {max-height: 0;max-width: 0;overflow: hidden;text-align: left;background-color: #f0f8ff;}#sk-container-id-1 div.sk-toggleable__content pre {margin: 0.2em;color: black;border-radius: 0.25em;background-color: #f0f8ff;}#sk-container-id-1 input.sk-toggleable__control:checked~div.sk-toggleable__content {max-height: 200px;max-width: 100%;overflow: auto;}#sk-container-id-1 input.sk-toggleable__control:checked~label.sk-toggleable__label-arrow:before {content: \"▾\";}#sk-container-id-1 div.sk-estimator input.sk-toggleable__control:checked~label.sk-toggleable__label {background-color: #d4ebff;}#sk-container-id-1 div.sk-label input.sk-toggleable__control:checked~label.sk-toggleable__label {background-color: #d4ebff;}#sk-container-id-1 input.sk-hidden--visually {border: 0;clip: rect(1px 1px 1px 1px);clip: rect(1px, 1px, 1px, 1px);height: 1px;margin: -1px;overflow: hidden;padding: 0;position: absolute;width: 1px;}#sk-container-id-1 div.sk-estimator {font-family: monospace;background-color: #f0f8ff;border: 1px dotted black;border-radius: 0.25em;box-sizing: border-box;margin-bottom: 0.5em;}#sk-container-id-1 div.sk-estimator:hover {background-color: #d4ebff;}#sk-container-id-1 div.sk-parallel-item::after {content: \"\";width: 100%;border-bottom: 1px solid gray;flex-grow: 1;}#sk-container-id-1 div.sk-label:hover label.sk-toggleable__label {background-color: #d4ebff;}#sk-container-id-1 div.sk-serial::before {content: \"\";position: absolute;border-left: 1px solid gray;box-sizing: border-box;top: 0;bottom: 0;left: 50%;z-index: 0;}#sk-container-id-1 div.sk-serial {display: flex;flex-direction: column;align-items: center;background-color: white;padding-right: 0.2em;padding-left: 0.2em;position: relative;}#sk-container-id-1 div.sk-item {position: relative;z-index: 1;}#sk-container-id-1 div.sk-parallel {display: flex;align-items: stretch;justify-content: center;background-color: white;position: relative;}#sk-container-id-1 div.sk-item::before, #sk-container-id-1 div.sk-parallel-item::before {content: \"\";position: absolute;border-left: 1px solid gray;box-sizing: border-box;top: 0;bottom: 0;left: 50%;z-index: -1;}#sk-container-id-1 div.sk-parallel-item {display: flex;flex-direction: column;z-index: 1;position: relative;background-color: white;}#sk-container-id-1 div.sk-parallel-item:first-child::after {align-self: flex-end;width: 50%;}#sk-container-id-1 div.sk-parallel-item:last-child::after {align-self: flex-start;width: 50%;}#sk-container-id-1 div.sk-parallel-item:only-child::after {width: 0;}#sk-container-id-1 div.sk-dashed-wrapped {border: 1px dashed gray;margin: 0 0.4em 0.5em 0.4em;box-sizing: border-box;padding-bottom: 0.4em;background-color: white;}#sk-container-id-1 div.sk-label label {font-family: monospace;font-weight: bold;display: inline-block;line-height: 1.2em;}#sk-container-id-1 div.sk-label-container {text-align: center;}#sk-container-id-1 div.sk-container {/* jupyter's `normalize.less` sets `[hidden] { display: none; }` but bootstrap.min.css set `[hidden] { display: none !important; }` so we also need the `!important` here to be able to override the default hidden behavior on the sphinx rendered scikit-learn.org. See: https://github.com/scikit-learn/scikit-learn/issues/21755 */display: inline-block !important;position: relative;}#sk-container-id-1 div.sk-text-repr-fallback {display: none;}</style><div id=\"sk-container-id-1\" class=\"sk-top-container\"><div class=\"sk-text-repr-fallback\"><pre>RandomizedSearchCV(estimator=XGBRegressor(base_score=None, booster=None,\n",
       "                                          callbacks=None,\n",
       "                                          colsample_bylevel=None,\n",
       "                                          colsample_bynode=None,\n",
       "                                          colsample_bytree=None,\n",
       "                                          early_stopping_rounds=None,\n",
       "                                          enable_categorical=False,\n",
       "                                          eval_metric=None, feature_types=None,\n",
       "                                          gamma=None, gpu_id=None,\n",
       "                                          grow_policy=None,\n",
       "                                          importance_type=None,\n",
       "                                          interaction_constraints=None,\n",
       "                                          learning_rate=None,...\n",
       "                                          predictor=None, random_state=None, ...),\n",
       "                   n_iter=25,\n",
       "                   param_distributions={&#x27;colsample_bylevel&#x27;: array([0.4, 0.5, 0.6, 0.7, 0.8, 0.9]),\n",
       "                                        &#x27;colsample_bytree&#x27;: array([0.4, 0.5, 0.6, 0.7, 0.8, 0.9]),\n",
       "                                        &#x27;learning_rate&#x27;: [0.01, 0.1, 0.2, 0.3],\n",
       "                                        &#x27;max_depth&#x27;: [3, 5, 6, 10, 15, 20],\n",
       "                                        &#x27;n_estimators&#x27;: [100, 400, 800],\n",
       "                                        &#x27;subsample&#x27;: array([0.5, 0.6, 0.7, 0.8, 0.9])},\n",
       "                   scoring=&#x27;neg_mean_squared_error&#x27;, verbose=2)</pre><b>In a Jupyter environment, please rerun this cell to show the HTML representation or trust the notebook. <br />On GitHub, the HTML representation is unable to render, please try loading this page with nbviewer.org.</b></div><div class=\"sk-container\" hidden><div class=\"sk-item sk-dashed-wrapped\"><div class=\"sk-label-container\"><div class=\"sk-label sk-toggleable\"><input class=\"sk-toggleable__control sk-hidden--visually\" id=\"sk-estimator-id-1\" type=\"checkbox\" ><label for=\"sk-estimator-id-1\" class=\"sk-toggleable__label sk-toggleable__label-arrow\">RandomizedSearchCV</label><div class=\"sk-toggleable__content\"><pre>RandomizedSearchCV(estimator=XGBRegressor(base_score=None, booster=None,\n",
       "                                          callbacks=None,\n",
       "                                          colsample_bylevel=None,\n",
       "                                          colsample_bynode=None,\n",
       "                                          colsample_bytree=None,\n",
       "                                          early_stopping_rounds=None,\n",
       "                                          enable_categorical=False,\n",
       "                                          eval_metric=None, feature_types=None,\n",
       "                                          gamma=None, gpu_id=None,\n",
       "                                          grow_policy=None,\n",
       "                                          importance_type=None,\n",
       "                                          interaction_constraints=None,\n",
       "                                          learning_rate=None,...\n",
       "                                          predictor=None, random_state=None, ...),\n",
       "                   n_iter=25,\n",
       "                   param_distributions={&#x27;colsample_bylevel&#x27;: array([0.4, 0.5, 0.6, 0.7, 0.8, 0.9]),\n",
       "                                        &#x27;colsample_bytree&#x27;: array([0.4, 0.5, 0.6, 0.7, 0.8, 0.9]),\n",
       "                                        &#x27;learning_rate&#x27;: [0.01, 0.1, 0.2, 0.3],\n",
       "                                        &#x27;max_depth&#x27;: [3, 5, 6, 10, 15, 20],\n",
       "                                        &#x27;n_estimators&#x27;: [100, 400, 800],\n",
       "                                        &#x27;subsample&#x27;: array([0.5, 0.6, 0.7, 0.8, 0.9])},\n",
       "                   scoring=&#x27;neg_mean_squared_error&#x27;, verbose=2)</pre></div></div></div><div class=\"sk-parallel\"><div class=\"sk-parallel-item\"><div class=\"sk-item\"><div class=\"sk-label-container\"><div class=\"sk-label sk-toggleable\"><input class=\"sk-toggleable__control sk-hidden--visually\" id=\"sk-estimator-id-2\" type=\"checkbox\" ><label for=\"sk-estimator-id-2\" class=\"sk-toggleable__label sk-toggleable__label-arrow\">estimator: XGBRegressor</label><div class=\"sk-toggleable__content\"><pre>XGBRegressor(base_score=None, booster=None, callbacks=None,\n",
       "             colsample_bylevel=None, colsample_bynode=None,\n",
       "             colsample_bytree=None, early_stopping_rounds=None,\n",
       "             enable_categorical=False, eval_metric=None, feature_types=None,\n",
       "             gamma=None, gpu_id=None, grow_policy=None, importance_type=None,\n",
       "             interaction_constraints=None, learning_rate=None, max_bin=None,\n",
       "             max_cat_threshold=None, max_cat_to_onehot=None,\n",
       "             max_delta_step=None, max_depth=None, max_leaves=None,\n",
       "             min_child_weight=None, missing=nan, monotone_constraints=None,\n",
       "             n_estimators=100, n_jobs=None, num_parallel_tree=None,\n",
       "             predictor=None, random_state=None, ...)</pre></div></div></div><div class=\"sk-serial\"><div class=\"sk-item\"><div class=\"sk-estimator sk-toggleable\"><input class=\"sk-toggleable__control sk-hidden--visually\" id=\"sk-estimator-id-3\" type=\"checkbox\" ><label for=\"sk-estimator-id-3\" class=\"sk-toggleable__label sk-toggleable__label-arrow\">XGBRegressor</label><div class=\"sk-toggleable__content\"><pre>XGBRegressor(base_score=None, booster=None, callbacks=None,\n",
       "             colsample_bylevel=None, colsample_bynode=None,\n",
       "             colsample_bytree=None, early_stopping_rounds=None,\n",
       "             enable_categorical=False, eval_metric=None, feature_types=None,\n",
       "             gamma=None, gpu_id=None, grow_policy=None, importance_type=None,\n",
       "             interaction_constraints=None, learning_rate=None, max_bin=None,\n",
       "             max_cat_threshold=None, max_cat_to_onehot=None,\n",
       "             max_delta_step=None, max_depth=None, max_leaves=None,\n",
       "             min_child_weight=None, missing=nan, monotone_constraints=None,\n",
       "             n_estimators=100, n_jobs=None, num_parallel_tree=None,\n",
       "             predictor=None, random_state=None, ...)</pre></div></div></div></div></div></div></div></div></div></div>"
      ],
      "text/plain": [
       "RandomizedSearchCV(estimator=XGBRegressor(base_score=None, booster=None,\n",
       "                                          callbacks=None,\n",
       "                                          colsample_bylevel=None,\n",
       "                                          colsample_bynode=None,\n",
       "                                          colsample_bytree=None,\n",
       "                                          early_stopping_rounds=None,\n",
       "                                          enable_categorical=False,\n",
       "                                          eval_metric=None, feature_types=None,\n",
       "                                          gamma=None, gpu_id=None,\n",
       "                                          grow_policy=None,\n",
       "                                          importance_type=None,\n",
       "                                          interaction_constraints=None,\n",
       "                                          learning_rate=None,...\n",
       "                                          predictor=None, random_state=None, ...),\n",
       "                   n_iter=25,\n",
       "                   param_distributions={'colsample_bylevel': array([0.4, 0.5, 0.6, 0.7, 0.8, 0.9]),\n",
       "                                        'colsample_bytree': array([0.4, 0.5, 0.6, 0.7, 0.8, 0.9]),\n",
       "                                        'learning_rate': [0.01, 0.1, 0.2, 0.3],\n",
       "                                        'max_depth': [3, 5, 6, 10, 15, 20],\n",
       "                                        'n_estimators': [100, 400, 800],\n",
       "                                        'subsample': array([0.5, 0.6, 0.7, 0.8, 0.9])},\n",
       "                   scoring='neg_mean_squared_error', verbose=2)"
      ]
     },
     "execution_count": 5,
     "metadata": {},
     "output_type": "execute_result"
    }
   ],
   "source": [
    "clf.fit(X_train,y_train)"
   ]
  },
  {
   "cell_type": "code",
   "execution_count": 6,
   "metadata": {},
   "outputs": [
    {
     "data": {
      "text/plain": [
       "{'subsample': 0.6,\n",
       " 'n_estimators': 800,\n",
       " 'max_depth': 3,\n",
       " 'learning_rate': 0.01,\n",
       " 'colsample_bytree': 0.7999999999999999,\n",
       " 'colsample_bylevel': 0.8999999999999999}"
      ]
     },
     "execution_count": 6,
     "metadata": {},
     "output_type": "execute_result"
    }
   ],
   "source": [
    "clf.best_params_"
   ]
  },
  {
   "cell_type": "code",
   "execution_count": 7,
   "metadata": {},
   "outputs": [],
   "source": [
    "best_params = {'subsample': 0.6,\n",
    " 'n_estimators': 800,\n",
    " 'max_depth': 3,\n",
    " 'learning_rate': 0.01,\n",
    " 'colsample_bytree': 0.7999999999999999,\n",
    " 'colsample_bylevel': 0.8999999999999999}"
   ]
  },
  {
   "cell_type": "code",
   "execution_count": 10,
   "metadata": {},
   "outputs": [
    {
     "data": {
      "text/html": [
       "<style>#sk-container-id-3 {color: black;background-color: white;}#sk-container-id-3 pre{padding: 0;}#sk-container-id-3 div.sk-toggleable {background-color: white;}#sk-container-id-3 label.sk-toggleable__label {cursor: pointer;display: block;width: 100%;margin-bottom: 0;padding: 0.3em;box-sizing: border-box;text-align: center;}#sk-container-id-3 label.sk-toggleable__label-arrow:before {content: \"▸\";float: left;margin-right: 0.25em;color: #696969;}#sk-container-id-3 label.sk-toggleable__label-arrow:hover:before {color: black;}#sk-container-id-3 div.sk-estimator:hover label.sk-toggleable__label-arrow:before {color: black;}#sk-container-id-3 div.sk-toggleable__content {max-height: 0;max-width: 0;overflow: hidden;text-align: left;background-color: #f0f8ff;}#sk-container-id-3 div.sk-toggleable__content pre {margin: 0.2em;color: black;border-radius: 0.25em;background-color: #f0f8ff;}#sk-container-id-3 input.sk-toggleable__control:checked~div.sk-toggleable__content {max-height: 200px;max-width: 100%;overflow: auto;}#sk-container-id-3 input.sk-toggleable__control:checked~label.sk-toggleable__label-arrow:before {content: \"▾\";}#sk-container-id-3 div.sk-estimator input.sk-toggleable__control:checked~label.sk-toggleable__label {background-color: #d4ebff;}#sk-container-id-3 div.sk-label input.sk-toggleable__control:checked~label.sk-toggleable__label {background-color: #d4ebff;}#sk-container-id-3 input.sk-hidden--visually {border: 0;clip: rect(1px 1px 1px 1px);clip: rect(1px, 1px, 1px, 1px);height: 1px;margin: -1px;overflow: hidden;padding: 0;position: absolute;width: 1px;}#sk-container-id-3 div.sk-estimator {font-family: monospace;background-color: #f0f8ff;border: 1px dotted black;border-radius: 0.25em;box-sizing: border-box;margin-bottom: 0.5em;}#sk-container-id-3 div.sk-estimator:hover {background-color: #d4ebff;}#sk-container-id-3 div.sk-parallel-item::after {content: \"\";width: 100%;border-bottom: 1px solid gray;flex-grow: 1;}#sk-container-id-3 div.sk-label:hover label.sk-toggleable__label {background-color: #d4ebff;}#sk-container-id-3 div.sk-serial::before {content: \"\";position: absolute;border-left: 1px solid gray;box-sizing: border-box;top: 0;bottom: 0;left: 50%;z-index: 0;}#sk-container-id-3 div.sk-serial {display: flex;flex-direction: column;align-items: center;background-color: white;padding-right: 0.2em;padding-left: 0.2em;position: relative;}#sk-container-id-3 div.sk-item {position: relative;z-index: 1;}#sk-container-id-3 div.sk-parallel {display: flex;align-items: stretch;justify-content: center;background-color: white;position: relative;}#sk-container-id-3 div.sk-item::before, #sk-container-id-3 div.sk-parallel-item::before {content: \"\";position: absolute;border-left: 1px solid gray;box-sizing: border-box;top: 0;bottom: 0;left: 50%;z-index: -1;}#sk-container-id-3 div.sk-parallel-item {display: flex;flex-direction: column;z-index: 1;position: relative;background-color: white;}#sk-container-id-3 div.sk-parallel-item:first-child::after {align-self: flex-end;width: 50%;}#sk-container-id-3 div.sk-parallel-item:last-child::after {align-self: flex-start;width: 50%;}#sk-container-id-3 div.sk-parallel-item:only-child::after {width: 0;}#sk-container-id-3 div.sk-dashed-wrapped {border: 1px dashed gray;margin: 0 0.4em 0.5em 0.4em;box-sizing: border-box;padding-bottom: 0.4em;background-color: white;}#sk-container-id-3 div.sk-label label {font-family: monospace;font-weight: bold;display: inline-block;line-height: 1.2em;}#sk-container-id-3 div.sk-label-container {text-align: center;}#sk-container-id-3 div.sk-container {/* jupyter's `normalize.less` sets `[hidden] { display: none; }` but bootstrap.min.css set `[hidden] { display: none !important; }` so we also need the `!important` here to be able to override the default hidden behavior on the sphinx rendered scikit-learn.org. See: https://github.com/scikit-learn/scikit-learn/issues/21755 */display: inline-block !important;position: relative;}#sk-container-id-3 div.sk-text-repr-fallback {display: none;}</style><div id=\"sk-container-id-3\" class=\"sk-top-container\"><div class=\"sk-text-repr-fallback\"><pre>XGBRegressor(base_score=None, booster=None, callbacks=None,\n",
       "             colsample_bylevel=0.8999999999999999, colsample_bynode=None,\n",
       "             colsample_bytree=0.7999999999999999, early_stopping_rounds=None,\n",
       "             enable_categorical=False, eval_metric=None, feature_types=None,\n",
       "             gamma=None, gpu_id=None, grow_policy=None, importance_type=None,\n",
       "             interaction_constraints=None, learning_rate=0.01, max_bin=None,\n",
       "             max_cat_threshold=None, max_cat_to_onehot=None,\n",
       "             max_delta_step=None, max_depth=3, max_leaves=None,\n",
       "             min_child_weight=None, missing=nan, monotone_constraints=None,\n",
       "             n_estimators=800, n_jobs=None, num_parallel_tree=None,\n",
       "             predictor=None, random_state=None, ...)</pre><b>In a Jupyter environment, please rerun this cell to show the HTML representation or trust the notebook. <br />On GitHub, the HTML representation is unable to render, please try loading this page with nbviewer.org.</b></div><div class=\"sk-container\" hidden><div class=\"sk-item\"><div class=\"sk-estimator sk-toggleable\"><input class=\"sk-toggleable__control sk-hidden--visually\" id=\"sk-estimator-id-5\" type=\"checkbox\" checked><label for=\"sk-estimator-id-5\" class=\"sk-toggleable__label sk-toggleable__label-arrow\">XGBRegressor</label><div class=\"sk-toggleable__content\"><pre>XGBRegressor(base_score=None, booster=None, callbacks=None,\n",
       "             colsample_bylevel=0.8999999999999999, colsample_bynode=None,\n",
       "             colsample_bytree=0.7999999999999999, early_stopping_rounds=None,\n",
       "             enable_categorical=False, eval_metric=None, feature_types=None,\n",
       "             gamma=None, gpu_id=None, grow_policy=None, importance_type=None,\n",
       "             interaction_constraints=None, learning_rate=0.01, max_bin=None,\n",
       "             max_cat_threshold=None, max_cat_to_onehot=None,\n",
       "             max_delta_step=None, max_depth=3, max_leaves=None,\n",
       "             min_child_weight=None, missing=nan, monotone_constraints=None,\n",
       "             n_estimators=800, n_jobs=None, num_parallel_tree=None,\n",
       "             predictor=None, random_state=None, ...)</pre></div></div></div></div></div>"
      ],
      "text/plain": [
       "XGBRegressor(base_score=None, booster=None, callbacks=None,\n",
       "             colsample_bylevel=0.8999999999999999, colsample_bynode=None,\n",
       "             colsample_bytree=0.7999999999999999, early_stopping_rounds=None,\n",
       "             enable_categorical=False, eval_metric=None, feature_types=None,\n",
       "             gamma=None, gpu_id=None, grow_policy=None, importance_type=None,\n",
       "             interaction_constraints=None, learning_rate=0.01, max_bin=None,\n",
       "             max_cat_threshold=None, max_cat_to_onehot=None,\n",
       "             max_delta_step=None, max_depth=3, max_leaves=None,\n",
       "             min_child_weight=None, missing=nan, monotone_constraints=None,\n",
       "             n_estimators=800, n_jobs=None, num_parallel_tree=None,\n",
       "             predictor=None, random_state=None, ...)"
      ]
     },
     "execution_count": 10,
     "metadata": {},
     "output_type": "execute_result"
    }
   ],
   "source": [
    "best_xgb = xgb.XGBRegressor(**best_params)\n",
    "best_xgb.fit(X_train,y_train)"
   ]
  },
  {
   "cell_type": "code",
   "execution_count": 11,
   "metadata": {},
   "outputs": [],
   "source": [
    "train_preds = best_xgb.predict(X_train)"
   ]
  },
  {
   "cell_type": "code",
   "execution_count": 12,
   "metadata": {},
   "outputs": [],
   "source": [
    "val_preds = best_xgb.predict(X_val)"
   ]
  },
  {
   "cell_type": "code",
   "execution_count": 13,
   "metadata": {},
   "outputs": [
    {
     "name": "stdout",
     "output_type": "stream",
     "text": [
      "20.047570908970393 35.009970128854214\n"
     ]
    }
   ],
   "source": [
    "train_rf_mae = mean_absolute_error(y_train,train_preds)\n",
    "train_rf_rmse = np.sqrt(mean_squared_error(y_train,train_preds))\n",
    "\n",
    "print(train_rf_mae,train_rf_rmse)"
   ]
  },
  {
   "cell_type": "code",
   "execution_count": 14,
   "metadata": {},
   "outputs": [
    {
     "name": "stdout",
     "output_type": "stream",
     "text": [
      "15.254687113812523 29.636863868625593\n"
     ]
    }
   ],
   "source": [
    "train_rf_mae = mean_absolute_error(y_val,val_preds)\n",
    "train_rf_rmse = np.sqrt(mean_squared_error(y_val,val_preds))\n",
    "\n",
    "print(train_rf_mae,train_rf_rmse)"
   ]
  },
  {
   "cell_type": "code",
   "execution_count": null,
   "metadata": {},
   "outputs": [],
   "source": []
  }
 ],
 "metadata": {
  "kernelspec": {
   "display_name": "Python 3.11.3 64-bit",
   "language": "python",
   "name": "python3"
  },
  "language_info": {
   "codemirror_mode": {
    "name": "ipython",
    "version": 3
   },
   "file_extension": ".py",
   "mimetype": "text/x-python",
   "name": "python",
   "nbconvert_exporter": "python",
   "pygments_lexer": "ipython3",
   "version": "3.11.3"
  },
  "orig_nbformat": 4,
  "vscode": {
   "interpreter": {
    "hash": "aee8b7b246df8f9039afb4144a1f6fd8d2ca17a180786b69acc140d282b71a49"
   }
  }
 },
 "nbformat": 4,
 "nbformat_minor": 2
}
