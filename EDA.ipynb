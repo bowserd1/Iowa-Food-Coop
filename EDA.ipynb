{
 "cells": [
  {
   "cell_type": "code",
   "execution_count": null,
   "metadata": {},
   "outputs": [],
   "source": [
    "import pandas as pd\n",
    "import numpy as np\n",
    "import matplotlib.pyplot as plt\n",
    "import seaborn as sns\n",
    "import gmaps\n",
    "import gmaps.datasets\n",
    "import ipyleaflet\n",
    "from IPython.display import display"
   ]
  },
  {
   "cell_type": "code",
   "execution_count": null,
   "metadata": {},
   "outputs": [],
   "source": [
    "#importing environment variables\n",
    "from dotenv import dotenv_values\n",
    "env_variables = dotenv_values('Ignore.env')"
   ]
  },
  {
   "cell_type": "code",
   "execution_count": null,
   "metadata": {},
   "outputs": [],
   "source": [
    "df = pd.read_csv('/Users/emilydanielbowser/Documents/Iowa Food Coop/Data/Intermediate Data/Wrangled_data')"
   ]
  },
  {
   "cell_type": "code",
   "execution_count": null,
   "metadata": {},
   "outputs": [],
   "source": [
    "df.head()"
   ]
  },
  {
   "cell_type": "code",
   "execution_count": null,
   "metadata": {},
   "outputs": [],
   "source": [
    "df.drop(['Unnamed: 0'], axis=1, inplace=True)\n"
   ]
  },
  {
   "cell_type": "code",
   "execution_count": null,
   "metadata": {},
   "outputs": [],
   "source": [
    "df.shape"
   ]
  },
  {
   "cell_type": "code",
   "execution_count": null,
   "metadata": {},
   "outputs": [],
   "source": [
    "df.columns"
   ]
  },
  {
   "cell_type": "code",
   "execution_count": null,
   "metadata": {},
   "outputs": [],
   "source": [
    "#Filling in all NAs from the different sales categories with 0's\n",
    "df[['SaleNom', 'Baked Goods', 'Beverages', 'Classes and Events',\n",
    "       'Condiments + Sauces', 'Dairy', 'Dried Herbs + Spices', 'Eggs',\n",
    "       'Grains, Flours, Cereal + Pastas', 'Handmade Home Goods + Gifts',\n",
    "       'Honey, Syrups, Jams + Jellies', 'Iowa Food Co-op Shop',\n",
    "       'Local Produce', 'Meat - Beef', 'Meat - Chicken + Capon', 'Meat - Pork',\n",
    "       'Meats - Other', 'Non-Food Items', 'Nuts', 'Other Protein Sources',\n",
    "       'Personal Care', 'Pet + Animal Care', 'Prepared Foods', 'Snacks',\n",
    "       'The Garden Center']]=df[['SaleNom', 'Baked Goods', 'Beverages', 'Classes and Events',\n",
    "       'Condiments + Sauces', 'Dairy', 'Dried Herbs + Spices', 'Eggs',\n",
    "       'Grains, Flours, Cereal + Pastas', 'Handmade Home Goods + Gifts',\n",
    "       'Honey, Syrups, Jams + Jellies', 'Iowa Food Co-op Shop',\n",
    "       'Local Produce', 'Meat - Beef', 'Meat - Chicken + Capon', 'Meat - Pork',\n",
    "       'Meats - Other', 'Non-Food Items', 'Nuts', 'Other Protein Sources',\n",
    "       'Personal Care', 'Pet + Animal Care', 'Prepared Foods', 'Snacks',\n",
    "       'The Garden Center']].fillna(0)"
   ]
  },
  {
   "cell_type": "code",
   "execution_count": null,
   "metadata": {},
   "outputs": [],
   "source": [
    "#Need to sort df oldest to newest first as we start making columns that cumulate over time.\n",
    "df = df.sort_values(by=['IDCyc'], ascending=True)"
   ]
  },
  {
   "cell_type": "code",
   "execution_count": null,
   "metadata": {},
   "outputs": [],
   "source": [
    "#Creating a Cumulative Sum column to add customer orders as they go since we can't use total sales in our final model.\n",
    "df['Cumulative_Sum'] = df['SaleNom'].groupby(df['IDMemb']).cumsum()"
   ]
  },
  {
   "cell_type": "code",
   "execution_count": null,
   "metadata": {},
   "outputs": [],
   "source": [
    "#Column of 1s and 0s for whether or not a person ordered during that ordering period\n",
    "df['Ordered'] = df['SaleNom'].apply((lambda x: 1 if x>0 else 0))"
   ]
  },
  {
   "cell_type": "code",
   "execution_count": null,
   "metadata": {},
   "outputs": [],
   "source": [
    "#Summing the new column to have a cumulative sum of total orders for each member.\n",
    "df['Cumulative_Number_of_Orders'] = df['Ordered'].groupby(df['IDMemb']).cumsum()"
   ]
  },
  {
   "cell_type": "code",
   "execution_count": null,
   "metadata": {},
   "outputs": [],
   "source": [
    "#Calculating average order when the person orders. \n",
    "df['order_per_cycle_when_ordering'] = df['Cumulative_Sum']/df['Cumulative_Number_of_Orders']"
   ]
  },
  {
   "cell_type": "code",
   "execution_count": null,
   "metadata": {},
   "outputs": [],
   "source": [
    "df.sort_values(by=['IDCyc','IDMemb'], ascending=True,inplace = True)"
   ]
  },
  {
   "cell_type": "code",
   "execution_count": null,
   "metadata": {},
   "outputs": [],
   "source": [
    "#Cumulative count of how many cycles this person has been a member.\n",
    "df['Cycles_as_member'] = df.groupby('IDMemb')['IDMemb'].cumcount() + 1"
   ]
  },
  {
   "cell_type": "code",
   "execution_count": null,
   "metadata": {},
   "outputs": [],
   "source": [
    "#Calulate how much each customer orders per cycle by dividing their total orders by the number of cycles they have been a member.\n",
    "df['order_per_cycle'] = df['Cumulative_Sum']/df['Cycles_as_member']"
   ]
  },
  {
   "cell_type": "code",
   "execution_count": null,
   "metadata": {},
   "outputs": [],
   "source": [
    "df.columns"
   ]
  },
  {
   "cell_type": "code",
   "execution_count": null,
   "metadata": {},
   "outputs": [],
   "source": [
    "#Dropping people who are out of state and rarely order since they are outliers\n",
    "df = df[df['Distance_to_pickup']<200]"
   ]
  },
  {
   "cell_type": "code",
   "execution_count": null,
   "metadata": {},
   "outputs": [],
   "source": [
    "df.isna().sum()"
   ]
  },
  {
   "cell_type": "code",
   "execution_count": null,
   "metadata": {},
   "outputs": [],
   "source": [
    "df['order_per_cycle_when_ordering'] = df['order_per_cycle_when_ordering'].fillna(0)"
   ]
  },
  {
   "cell_type": "code",
   "execution_count": null,
   "metadata": {},
   "outputs": [],
   "source": [
    "df[df['latitude'].isna()]"
   ]
  },
  {
   "cell_type": "code",
   "execution_count": null,
   "metadata": {},
   "outputs": [],
   "source": [
    "#These two are test members. Deleting them.\n",
    "df = df[(df['IDMemb']!=1347) & (df['IDMemb']!=1351)]"
   ]
  },
  {
   "cell_type": "code",
   "execution_count": null,
   "metadata": {},
   "outputs": [],
   "source": [
    "#Most people have never ordered. I'll remove these people from the dataframe using this mask. This will also mean that the model will not predict someone\n",
    "#making their first order. After a person has ordered once, this model will start to predict their order amount. Could look at this and increase it to \n",
    "#making someone order 4 times before predicting to make sure we have more information before predicting.\n",
    "orderers_only = df['IDMemb'][(df['IDCyc']==334) &(df['Cumulative_Sum']>0)]\n",
    "df = df[df['IDMemb'].isin(orderers_only)]"
   ]
  },
  {
   "cell_type": "code",
   "execution_count": null,
   "metadata": {},
   "outputs": [],
   "source": [
    "df.describe()"
   ]
  },
  {
   "cell_type": "code",
   "execution_count": null,
   "metadata": {},
   "outputs": [],
   "source": [
    "from collections.abc import Iterable"
   ]
  },
  {
   "cell_type": "code",
   "execution_count": null,
   "metadata": {},
   "outputs": [],
   "source": [
    "# Map of customers who ordered during Cycle 334\n",
    "gmaps.configure(env_variables['API_KEY2'])\n",
    "fig = gmaps.figure()\n",
    "p = df[df['IDCyc']==334]\n",
    "locations = p[['latitude','longitude']]\n",
    "heatmap_layer = gmaps.heatmap_layer(locations)\n",
    "fig.add_layer(heatmap_layer)\n",
    "#markers = gmaps.marker_layer(pickup_locs)\n",
    "#fig.add_layer(markers)\n",
    "\n",
    "heatmap_layer.max_intensity = 50\n",
    "heatmap_layer.point_radius = 3\n",
    "\n",
    "fig"
   ]
  },
  {
   "cell_type": "code",
   "execution_count": null,
   "metadata": {},
   "outputs": [],
   "source": [
    "# Map of all customers who have ordered since June of 2021\n",
    "gmaps.configure(env_variables['API_KEY2'])\n",
    "fig = gmaps.figure()\n",
    "locations = df[['latitude','longitude']]\n",
    "heatmap_layer = gmaps.heatmap_layer(locations)\n",
    "fig.add_layer(heatmap_layer)\n",
    "#markers = gmaps.marker_layer(pickup_locs)\n",
    "#fig.add_layer(markers)\n",
    "\n",
    "heatmap_layer.max_intensity = 50\n",
    "heatmap_layer.point_radius = 3\n",
    "\n",
    "fig"
   ]
  },
  {
   "cell_type": "code",
   "execution_count": null,
   "metadata": {},
   "outputs": [],
   "source": [
    "df.columns"
   ]
  },
  {
   "cell_type": "code",
   "execution_count": null,
   "metadata": {},
   "outputs": [],
   "source": [
    "#Sales during most recent ordering period.\n",
    "plt.subplots(figsize=(12, 8))\n",
    "sns.boxplot(x='CDLocLast', y='SaleNom', data=df[(df['IDCyc']==334) & (df['SaleNom']>0)])\n",
    "plt.xticks(rotation='vertical')\n",
    "plt.ylabel('Sales During Cycle 334')\n",
    "plt.xlabel('Pick up Location');"
   ]
  },
  {
   "cell_type": "code",
   "execution_count": null,
   "metadata": {},
   "outputs": [],
   "source": [
    "#Lifetime sales by customer and pick up location.\n",
    "plt.subplots(figsize=(12, 8))\n",
    "sns.boxplot(x='CDLocLast', y='Cumulative_Sum', data=df[df['IDCyc']==334])\n",
    "plt.xticks(rotation='vertical')\n",
    "plt.ylabel('Sales over the Past Two Years')\n",
    "plt.xlabel('Pick up Location');"
   ]
  },
  {
   "cell_type": "code",
   "execution_count": null,
   "metadata": {},
   "outputs": [],
   "source": [
    "df.columns"
   ]
  },
  {
   "cell_type": "code",
   "execution_count": null,
   "metadata": {},
   "outputs": [],
   "source": [
    "#Number of Customers and how long they have been members\n",
    "plt.hist(data=df[df['IDCyc']==334], x = 'Years_member')\n",
    "plt.ylabel('Number of Active Members')\n",
    "plt.xlabel('Years as a Member')"
   ]
  },
  {
   "cell_type": "code",
   "execution_count": null,
   "metadata": {},
   "outputs": [],
   "source": [
    "#Histogram of who is ordering recently--new members vs. old members.\n",
    "plt.hist(data=df[(df['IDCyc']==334) & df['SaleNom']>0], x = 'Years_member')\n",
    "plt.ylabel('Number of Members Ordered for Cylce 334')\n",
    "plt.xlabel('Years as a Member')"
   ]
  },
  {
   "cell_type": "code",
   "execution_count": null,
   "metadata": {},
   "outputs": [],
   "source": [
    "#Scatterplot showing amount of most recent order vs. how many times the customer has ordered in the past.\n",
    "sns.scatterplot(data = df[df['IDCyc']==334], x = 'Cumulative_Number_of_Orders', y='SaleNom')\n",
    "plt.ylabel('Cycle 334 Sales')\n",
    "plt.xlabel('# of Times Ordered')"
   ]
  },
  {
   "cell_type": "code",
   "execution_count": null,
   "metadata": {},
   "outputs": [],
   "source": [
    "#Scatterplot of order vs. miles to pickup\n",
    "sns.scatterplot(data = df[(df['Distance_to_pickup']<50) & (df['IDCyc']==334)], x = 'Distance_to_pickup', y='SaleNom')\n",
    "plt.ylabel('Cycle 334 Sales')\n",
    "plt.xlabel('Distance to pickup (miles)')"
   ]
  },
  {
   "cell_type": "code",
   "execution_count": null,
   "metadata": {},
   "outputs": [],
   "source": [
    "#Scatterplot of order vs. miles to pickup at Franklin location\n",
    "sns.scatterplot(data = df[(df['CDLocLast']=='FRAN') & (df['IDCyc']==334)], x = 'Distance_to_pickup', y='SaleNom')\n",
    "plt.ylabel('Cycle 334 Sales')\n",
    "plt.xlabel('Distance to pickup (miles)')"
   ]
  },
  {
   "cell_type": "code",
   "execution_count": null,
   "metadata": {},
   "outputs": [],
   "source": [
    "#Scatterplot of order vs. miles to pickup at West Des Moines location\n",
    "sns.scatterplot(data = df[(df['CDLocLast']=='WDM') & (df['IDCyc']==334)], x = 'Distance_to_pickup', y='SaleNom')\n",
    "plt.ylabel('Cycle 334 Sales')\n",
    "plt.xlabel('Distance to pickup (miles)')"
   ]
  },
  {
   "cell_type": "code",
   "execution_count": null,
   "metadata": {},
   "outputs": [],
   "source": [
    "#Scatterplot of order vs. miles to pickup at Ankeny location\n",
    "sns.scatterplot(data = df[(df['CDLocLast']=='ANK') & (df['IDCyc']==334)], x = 'Distance_to_pickup', y='SaleNom')\n",
    "plt.ylabel('Cycle 334 Sales')\n",
    "plt.xlabel('Distance to pickup (miles)')"
   ]
  },
  {
   "cell_type": "code",
   "execution_count": null,
   "metadata": {},
   "outputs": [],
   "source": [
    "#Scatter plot of most recent ordering period vs. lifetime sales\n",
    "sns.scatterplot(data = df[df['IDCyc']==334], x = 'Cumulative_Sum', y='SaleNom')\n",
    "plt.ylabel('Cycle 334 Sales')\n",
    "plt.xlabel('Total Sales')"
   ]
  },
  {
   "cell_type": "code",
   "execution_count": null,
   "metadata": {},
   "outputs": [],
   "source": []
  },
  {
   "cell_type": "code",
   "execution_count": null,
   "metadata": {},
   "outputs": [],
   "source": [
    "#Total Years as member vs. total purchases over last 2+ years.\n",
    "sns.scatterplot(data = df[df['IDCyc']==334], x = 'Years_member', y='Cumulative_Sum');\n",
    "plt.ylabel('Total Purchases Since Cycle 285');\n",
    "plt.xlabel('Years as a Member');"
   ]
  },
  {
   "cell_type": "code",
   "execution_count": null,
   "metadata": {},
   "outputs": [],
   "source": [
    "df.columns"
   ]
  },
  {
   "cell_type": "code",
   "execution_count": null,
   "metadata": {},
   "outputs": [],
   "source": [
    "#order per cycle comparison\n",
    "sns.scatterplot(data = df[df['IDCyc']==334], x='IDMemb', y = 'order_per_cycle')"
   ]
  },
  {
   "cell_type": "code",
   "execution_count": null,
   "metadata": {},
   "outputs": [],
   "source": [
    "#How much customers spend when they order.\n",
    "sns.scatterplot(data = df[df['IDCyc']==334], x='IDMemb', y = 'order_per_cycle_when_ordering')"
   ]
  },
  {
   "cell_type": "code",
   "execution_count": null,
   "metadata": {},
   "outputs": [],
   "source": [
    "plt.hist(data=df[df['IDCyc']==334], x='order_per_cycle_when_ordering', range = [0,500],bins=20);"
   ]
  },
  {
   "cell_type": "code",
   "execution_count": null,
   "metadata": {},
   "outputs": [],
   "source": [
    "plt.hist(data=df[df['IDCyc']==334], x='order_per_cycle', range = [0,250],bins=20);"
   ]
  },
  {
   "cell_type": "code",
   "execution_count": null,
   "metadata": {},
   "outputs": [],
   "source": [
    "#checking correlations between each variable and the most recent ordering period.\n",
    "Series_2=df[df['IDCyc']==334].corr()['SaleNom']\n",
    "print(Series_2)"
   ]
  },
  {
   "cell_type": "code",
   "execution_count": null,
   "metadata": {},
   "outputs": [],
   "source": [
    "df2 = pd.DataFrame(Series_2)\n",
    "df2.head(60)"
   ]
  },
  {
   "cell_type": "code",
   "execution_count": null,
   "metadata": {},
   "outputs": [],
   "source": [
    "#graphing the correlations\n",
    "fig, ax = plt.subplots(figsize=(8, 6));\n",
    "sns.scatterplot(data=df2);\n",
    "plt.xlabel('Feature');\n",
    "plt.ylabel('Correlations');\n",
    "plt.xticks(rotation=90);"
   ]
  },
  {
   "cell_type": "code",
   "execution_count": null,
   "metadata": {},
   "outputs": [],
   "source": [
    "#NumLogins is just the total logins a customer has made--it doesn't accumulate, so we can't use it in our modelling.\n",
    "df.drop(['NumLogins'], axis=1, inplace=True)"
   ]
  },
  {
   "cell_type": "code",
   "execution_count": null,
   "metadata": {},
   "outputs": [],
   "source": [
    "df.reset_index(drop=True)"
   ]
  },
  {
   "cell_type": "code",
   "execution_count": null,
   "metadata": {},
   "outputs": [],
   "source": [
    "df.head(-10)"
   ]
  },
  {
   "cell_type": "code",
   "execution_count": null,
   "metadata": {},
   "outputs": [],
   "source": [
    "df.columns"
   ]
  },
  {
   "cell_type": "code",
   "execution_count": null,
   "metadata": {},
   "outputs": [],
   "source": [
    "df.isna().sum()"
   ]
  },
  {
   "cell_type": "code",
   "execution_count": null,
   "metadata": {},
   "outputs": [],
   "source": [
    "df[(df['Cumulative_Sum']==0) & (df['IDCyc']==334)]"
   ]
  },
  {
   "cell_type": "code",
   "execution_count": null,
   "metadata": {},
   "outputs": [],
   "source": [
    "df.columns"
   ]
  },
  {
   "cell_type": "code",
   "execution_count": null,
   "metadata": {},
   "outputs": [],
   "source": [
    "df.drop(['Addr1', 'Addr2','City', 'St', 'Zip','CDRegMemb','full_address'],axis=1,inplace=True)"
   ]
  },
  {
   "cell_type": "code",
   "execution_count": null,
   "metadata": {},
   "outputs": [],
   "source": [
    "df.head()"
   ]
  },
  {
   "cell_type": "code",
   "execution_count": null,
   "metadata": {},
   "outputs": [],
   "source": [
    "filepath = '/Users/emilydanielbowser/Documents/Iowa Food Coop/Data/Intermediate Data/EDA'\n",
    "df.to_csv(filepath)"
   ]
  }
 ],
 "metadata": {
  "kernelspec": {
   "display_name": "Python 3.11.3 64-bit",
   "language": "python",
   "name": "python3"
  },
  "language_info": {
   "codemirror_mode": {
    "name": "ipython",
    "version": 3
   },
   "file_extension": ".py",
   "mimetype": "text/x-python",
   "name": "python",
   "nbconvert_exporter": "python",
   "pygments_lexer": "ipython3",
   "version": "3.11.3"
  },
  "orig_nbformat": 4,
  "vscode": {
   "interpreter": {
    "hash": "aee8b7b246df8f9039afb4144a1f6fd8d2ca17a180786b69acc140d282b71a49"
   }
  }
 },
 "nbformat": 4,
 "nbformat_minor": 2
}
